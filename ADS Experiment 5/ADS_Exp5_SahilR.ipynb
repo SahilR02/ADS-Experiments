{
  "nbformat": 4,
  "nbformat_minor": 0,
  "metadata": {
    "colab": {
      "provenance": [],
      "authorship_tag": "ABX9TyOYw/0lg13QRP1/ff87zgfJ",
      "include_colab_link": true
    },
    "kernelspec": {
      "name": "python3",
      "display_name": "Python 3"
    },
    "language_info": {
      "name": "python"
    }
  },
  "cells": [
    {
      "cell_type": "markdown",
      "metadata": {
        "id": "view-in-github",
        "colab_type": "text"
      },
      "source": [
        "<a href=\"https://colab.research.google.com/github/SahilR02/ADS-Experiments/blob/main/ADS%20Experiment%205/ADS_Exp5_SahilR.ipynb\" target=\"_parent\"><img src=\"https://colab.research.google.com/assets/colab-badge.svg\" alt=\"Open In Colab\"/></a>"
      ]
    },
    {
      "cell_type": "markdown",
      "source": [
        "## **ADS Experiment No.5**"
      ],
      "metadata": {
        "id": "1lk8l3IB6nSH"
      }
    },
    {
      "cell_type": "markdown",
      "source": [
        "**Importing required libraries**"
      ],
      "metadata": {
        "id": "yXxmtChF6Ut-"
      }
    },
    {
      "cell_type": "code",
      "execution_count": null,
      "metadata": {
        "id": "GSoQaVf2tnrJ"
      },
      "outputs": [],
      "source": [
        "import pandas as pd\n",
        "import numpy as np\n",
        "import matplotlib.pyplot as plt\n",
        "import seaborn as sns"
      ]
    },
    {
      "cell_type": "code",
      "source": [
        "data = pd.read_csv('Housing_data.csv')\n",
        "data"
      ],
      "metadata": {
        "id": "6DYfgMg1t6b8",
        "colab": {
          "base_uri": "https://localhost:8080/",
          "height": 423
        },
        "outputId": "568f8790-44db-4b20-ea37-5174fbbb0c84"
      },
      "execution_count": null,
      "outputs": [
        {
          "output_type": "execute_result",
          "data": {
            "text/plain": [
              "         City          County  Year  TOTALproduction  SFproduction  \\\n",
              "0     Alameda  Alameda County  1990              295           178   \n",
              "1     Alameda  Alameda County  1991              360           179   \n",
              "2     Alameda  Alameda County  1992               59           138   \n",
              "3     Alameda  Alameda County  1993               36           122   \n",
              "4     Alameda  Alameda County  1994                3           105   \n",
              "...       ...             ...   ...              ...           ...   \n",
              "3032  Windsor   Sonoma County  2013               22            12   \n",
              "3033  Windsor   Sonoma County  2014                2             2   \n",
              "3034  Windsor   Sonoma County  2015                8             8   \n",
              "3035  Windsor   Sonoma County  2016               18            19   \n",
              "3036  Windsor   Sonoma County  2017               43             7   \n",
              "\n",
              "      Mfproduction  Mhproduction  \n",
              "0               96            21  \n",
              "1              153            28  \n",
              "2             -107            28  \n",
              "3             -114            28  \n",
              "4             -130            28  \n",
              "...            ...           ...  \n",
              "3032            10             0  \n",
              "3033             0             0  \n",
              "3034             0             0  \n",
              "3035             0            -1  \n",
              "3036            36             0  \n",
              "\n",
              "[3037 rows x 7 columns]"
            ],
            "text/html": [
              "\n",
              "  <div id=\"df-96a3977d-baa8-4dad-9eba-fb3d9678b0a2\" class=\"colab-df-container\">\n",
              "    <div>\n",
              "<style scoped>\n",
              "    .dataframe tbody tr th:only-of-type {\n",
              "        vertical-align: middle;\n",
              "    }\n",
              "\n",
              "    .dataframe tbody tr th {\n",
              "        vertical-align: top;\n",
              "    }\n",
              "\n",
              "    .dataframe thead th {\n",
              "        text-align: right;\n",
              "    }\n",
              "</style>\n",
              "<table border=\"1\" class=\"dataframe\">\n",
              "  <thead>\n",
              "    <tr style=\"text-align: right;\">\n",
              "      <th></th>\n",
              "      <th>City</th>\n",
              "      <th>County</th>\n",
              "      <th>Year</th>\n",
              "      <th>TOTALproduction</th>\n",
              "      <th>SFproduction</th>\n",
              "      <th>Mfproduction</th>\n",
              "      <th>Mhproduction</th>\n",
              "    </tr>\n",
              "  </thead>\n",
              "  <tbody>\n",
              "    <tr>\n",
              "      <th>0</th>\n",
              "      <td>Alameda</td>\n",
              "      <td>Alameda County</td>\n",
              "      <td>1990</td>\n",
              "      <td>295</td>\n",
              "      <td>178</td>\n",
              "      <td>96</td>\n",
              "      <td>21</td>\n",
              "    </tr>\n",
              "    <tr>\n",
              "      <th>1</th>\n",
              "      <td>Alameda</td>\n",
              "      <td>Alameda County</td>\n",
              "      <td>1991</td>\n",
              "      <td>360</td>\n",
              "      <td>179</td>\n",
              "      <td>153</td>\n",
              "      <td>28</td>\n",
              "    </tr>\n",
              "    <tr>\n",
              "      <th>2</th>\n",
              "      <td>Alameda</td>\n",
              "      <td>Alameda County</td>\n",
              "      <td>1992</td>\n",
              "      <td>59</td>\n",
              "      <td>138</td>\n",
              "      <td>-107</td>\n",
              "      <td>28</td>\n",
              "    </tr>\n",
              "    <tr>\n",
              "      <th>3</th>\n",
              "      <td>Alameda</td>\n",
              "      <td>Alameda County</td>\n",
              "      <td>1993</td>\n",
              "      <td>36</td>\n",
              "      <td>122</td>\n",
              "      <td>-114</td>\n",
              "      <td>28</td>\n",
              "    </tr>\n",
              "    <tr>\n",
              "      <th>4</th>\n",
              "      <td>Alameda</td>\n",
              "      <td>Alameda County</td>\n",
              "      <td>1994</td>\n",
              "      <td>3</td>\n",
              "      <td>105</td>\n",
              "      <td>-130</td>\n",
              "      <td>28</td>\n",
              "    </tr>\n",
              "    <tr>\n",
              "      <th>...</th>\n",
              "      <td>...</td>\n",
              "      <td>...</td>\n",
              "      <td>...</td>\n",
              "      <td>...</td>\n",
              "      <td>...</td>\n",
              "      <td>...</td>\n",
              "      <td>...</td>\n",
              "    </tr>\n",
              "    <tr>\n",
              "      <th>3032</th>\n",
              "      <td>Windsor</td>\n",
              "      <td>Sonoma County</td>\n",
              "      <td>2013</td>\n",
              "      <td>22</td>\n",
              "      <td>12</td>\n",
              "      <td>10</td>\n",
              "      <td>0</td>\n",
              "    </tr>\n",
              "    <tr>\n",
              "      <th>3033</th>\n",
              "      <td>Windsor</td>\n",
              "      <td>Sonoma County</td>\n",
              "      <td>2014</td>\n",
              "      <td>2</td>\n",
              "      <td>2</td>\n",
              "      <td>0</td>\n",
              "      <td>0</td>\n",
              "    </tr>\n",
              "    <tr>\n",
              "      <th>3034</th>\n",
              "      <td>Windsor</td>\n",
              "      <td>Sonoma County</td>\n",
              "      <td>2015</td>\n",
              "      <td>8</td>\n",
              "      <td>8</td>\n",
              "      <td>0</td>\n",
              "      <td>0</td>\n",
              "    </tr>\n",
              "    <tr>\n",
              "      <th>3035</th>\n",
              "      <td>Windsor</td>\n",
              "      <td>Sonoma County</td>\n",
              "      <td>2016</td>\n",
              "      <td>18</td>\n",
              "      <td>19</td>\n",
              "      <td>0</td>\n",
              "      <td>-1</td>\n",
              "    </tr>\n",
              "    <tr>\n",
              "      <th>3036</th>\n",
              "      <td>Windsor</td>\n",
              "      <td>Sonoma County</td>\n",
              "      <td>2017</td>\n",
              "      <td>43</td>\n",
              "      <td>7</td>\n",
              "      <td>36</td>\n",
              "      <td>0</td>\n",
              "    </tr>\n",
              "  </tbody>\n",
              "</table>\n",
              "<p>3037 rows × 7 columns</p>\n",
              "</div>\n",
              "    <div class=\"colab-df-buttons\">\n",
              "\n",
              "  <div class=\"colab-df-container\">\n",
              "    <button class=\"colab-df-convert\" onclick=\"convertToInteractive('df-96a3977d-baa8-4dad-9eba-fb3d9678b0a2')\"\n",
              "            title=\"Convert this dataframe to an interactive table.\"\n",
              "            style=\"display:none;\">\n",
              "\n",
              "  <svg xmlns=\"http://www.w3.org/2000/svg\" height=\"24px\" viewBox=\"0 -960 960 960\">\n",
              "    <path d=\"M120-120v-720h720v720H120Zm60-500h600v-160H180v160Zm220 220h160v-160H400v160Zm0 220h160v-160H400v160ZM180-400h160v-160H180v160Zm440 0h160v-160H620v160ZM180-180h160v-160H180v160Zm440 0h160v-160H620v160Z\"/>\n",
              "  </svg>\n",
              "    </button>\n",
              "\n",
              "  <style>\n",
              "    .colab-df-container {\n",
              "      display:flex;\n",
              "      gap: 12px;\n",
              "    }\n",
              "\n",
              "    .colab-df-convert {\n",
              "      background-color: #E8F0FE;\n",
              "      border: none;\n",
              "      border-radius: 50%;\n",
              "      cursor: pointer;\n",
              "      display: none;\n",
              "      fill: #1967D2;\n",
              "      height: 32px;\n",
              "      padding: 0 0 0 0;\n",
              "      width: 32px;\n",
              "    }\n",
              "\n",
              "    .colab-df-convert:hover {\n",
              "      background-color: #E2EBFA;\n",
              "      box-shadow: 0px 1px 2px rgba(60, 64, 67, 0.3), 0px 1px 3px 1px rgba(60, 64, 67, 0.15);\n",
              "      fill: #174EA6;\n",
              "    }\n",
              "\n",
              "    .colab-df-buttons div {\n",
              "      margin-bottom: 4px;\n",
              "    }\n",
              "\n",
              "    [theme=dark] .colab-df-convert {\n",
              "      background-color: #3B4455;\n",
              "      fill: #D2E3FC;\n",
              "    }\n",
              "\n",
              "    [theme=dark] .colab-df-convert:hover {\n",
              "      background-color: #434B5C;\n",
              "      box-shadow: 0px 1px 3px 1px rgba(0, 0, 0, 0.15);\n",
              "      filter: drop-shadow(0px 1px 2px rgba(0, 0, 0, 0.3));\n",
              "      fill: #FFFFFF;\n",
              "    }\n",
              "  </style>\n",
              "\n",
              "    <script>\n",
              "      const buttonEl =\n",
              "        document.querySelector('#df-96a3977d-baa8-4dad-9eba-fb3d9678b0a2 button.colab-df-convert');\n",
              "      buttonEl.style.display =\n",
              "        google.colab.kernel.accessAllowed ? 'block' : 'none';\n",
              "\n",
              "      async function convertToInteractive(key) {\n",
              "        const element = document.querySelector('#df-96a3977d-baa8-4dad-9eba-fb3d9678b0a2');\n",
              "        const dataTable =\n",
              "          await google.colab.kernel.invokeFunction('convertToInteractive',\n",
              "                                                    [key], {});\n",
              "        if (!dataTable) return;\n",
              "\n",
              "        const docLinkHtml = 'Like what you see? Visit the ' +\n",
              "          '<a target=\"_blank\" href=https://colab.research.google.com/notebooks/data_table.ipynb>data table notebook</a>'\n",
              "          + ' to learn more about interactive tables.';\n",
              "        element.innerHTML = '';\n",
              "        dataTable['output_type'] = 'display_data';\n",
              "        await google.colab.output.renderOutput(dataTable, element);\n",
              "        const docLink = document.createElement('div');\n",
              "        docLink.innerHTML = docLinkHtml;\n",
              "        element.appendChild(docLink);\n",
              "      }\n",
              "    </script>\n",
              "  </div>\n",
              "\n",
              "\n",
              "<div id=\"df-a67a8494-54cd-4839-a260-fc5d699b140f\">\n",
              "  <button class=\"colab-df-quickchart\" onclick=\"quickchart('df-a67a8494-54cd-4839-a260-fc5d699b140f')\"\n",
              "            title=\"Suggest charts\"\n",
              "            style=\"display:none;\">\n",
              "\n",
              "<svg xmlns=\"http://www.w3.org/2000/svg\" height=\"24px\"viewBox=\"0 0 24 24\"\n",
              "     width=\"24px\">\n",
              "    <g>\n",
              "        <path d=\"M19 3H5c-1.1 0-2 .9-2 2v14c0 1.1.9 2 2 2h14c1.1 0 2-.9 2-2V5c0-1.1-.9-2-2-2zM9 17H7v-7h2v7zm4 0h-2V7h2v10zm4 0h-2v-4h2v4z\"/>\n",
              "    </g>\n",
              "</svg>\n",
              "  </button>\n",
              "\n",
              "<style>\n",
              "  .colab-df-quickchart {\n",
              "      --bg-color: #E8F0FE;\n",
              "      --fill-color: #1967D2;\n",
              "      --hover-bg-color: #E2EBFA;\n",
              "      --hover-fill-color: #174EA6;\n",
              "      --disabled-fill-color: #AAA;\n",
              "      --disabled-bg-color: #DDD;\n",
              "  }\n",
              "\n",
              "  [theme=dark] .colab-df-quickchart {\n",
              "      --bg-color: #3B4455;\n",
              "      --fill-color: #D2E3FC;\n",
              "      --hover-bg-color: #434B5C;\n",
              "      --hover-fill-color: #FFFFFF;\n",
              "      --disabled-bg-color: #3B4455;\n",
              "      --disabled-fill-color: #666;\n",
              "  }\n",
              "\n",
              "  .colab-df-quickchart {\n",
              "    background-color: var(--bg-color);\n",
              "    border: none;\n",
              "    border-radius: 50%;\n",
              "    cursor: pointer;\n",
              "    display: none;\n",
              "    fill: var(--fill-color);\n",
              "    height: 32px;\n",
              "    padding: 0;\n",
              "    width: 32px;\n",
              "  }\n",
              "\n",
              "  .colab-df-quickchart:hover {\n",
              "    background-color: var(--hover-bg-color);\n",
              "    box-shadow: 0 1px 2px rgba(60, 64, 67, 0.3), 0 1px 3px 1px rgba(60, 64, 67, 0.15);\n",
              "    fill: var(--button-hover-fill-color);\n",
              "  }\n",
              "\n",
              "  .colab-df-quickchart-complete:disabled,\n",
              "  .colab-df-quickchart-complete:disabled:hover {\n",
              "    background-color: var(--disabled-bg-color);\n",
              "    fill: var(--disabled-fill-color);\n",
              "    box-shadow: none;\n",
              "  }\n",
              "\n",
              "  .colab-df-spinner {\n",
              "    border: 2px solid var(--fill-color);\n",
              "    border-color: transparent;\n",
              "    border-bottom-color: var(--fill-color);\n",
              "    animation:\n",
              "      spin 1s steps(1) infinite;\n",
              "  }\n",
              "\n",
              "  @keyframes spin {\n",
              "    0% {\n",
              "      border-color: transparent;\n",
              "      border-bottom-color: var(--fill-color);\n",
              "      border-left-color: var(--fill-color);\n",
              "    }\n",
              "    20% {\n",
              "      border-color: transparent;\n",
              "      border-left-color: var(--fill-color);\n",
              "      border-top-color: var(--fill-color);\n",
              "    }\n",
              "    30% {\n",
              "      border-color: transparent;\n",
              "      border-left-color: var(--fill-color);\n",
              "      border-top-color: var(--fill-color);\n",
              "      border-right-color: var(--fill-color);\n",
              "    }\n",
              "    40% {\n",
              "      border-color: transparent;\n",
              "      border-right-color: var(--fill-color);\n",
              "      border-top-color: var(--fill-color);\n",
              "    }\n",
              "    60% {\n",
              "      border-color: transparent;\n",
              "      border-right-color: var(--fill-color);\n",
              "    }\n",
              "    80% {\n",
              "      border-color: transparent;\n",
              "      border-right-color: var(--fill-color);\n",
              "      border-bottom-color: var(--fill-color);\n",
              "    }\n",
              "    90% {\n",
              "      border-color: transparent;\n",
              "      border-bottom-color: var(--fill-color);\n",
              "    }\n",
              "  }\n",
              "</style>\n",
              "\n",
              "  <script>\n",
              "    async function quickchart(key) {\n",
              "      const quickchartButtonEl =\n",
              "        document.querySelector('#' + key + ' button');\n",
              "      quickchartButtonEl.disabled = true;  // To prevent multiple clicks.\n",
              "      quickchartButtonEl.classList.add('colab-df-spinner');\n",
              "      try {\n",
              "        const charts = await google.colab.kernel.invokeFunction(\n",
              "            'suggestCharts', [key], {});\n",
              "      } catch (error) {\n",
              "        console.error('Error during call to suggestCharts:', error);\n",
              "      }\n",
              "      quickchartButtonEl.classList.remove('colab-df-spinner');\n",
              "      quickchartButtonEl.classList.add('colab-df-quickchart-complete');\n",
              "    }\n",
              "    (() => {\n",
              "      let quickchartButtonEl =\n",
              "        document.querySelector('#df-a67a8494-54cd-4839-a260-fc5d699b140f button');\n",
              "      quickchartButtonEl.style.display =\n",
              "        google.colab.kernel.accessAllowed ? 'block' : 'none';\n",
              "    })();\n",
              "  </script>\n",
              "</div>\n",
              "    </div>\n",
              "  </div>\n"
            ],
            "application/vnd.google.colaboratory.intrinsic+json": {
              "type": "dataframe",
              "variable_name": "data",
              "summary": "{\n  \"name\": \"data\",\n  \"rows\": 3037,\n  \"fields\": [\n    {\n      \"column\": \"City\",\n      \"properties\": {\n        \"dtype\": \"category\",\n        \"num_unique_values\": 109,\n        \"samples\": [\n          \"Los Altos\",\n          \"Piedmont\",\n          \"Emeryville\"\n        ],\n        \"semantic_type\": \"\",\n        \"description\": \"\"\n      }\n    },\n    {\n      \"column\": \"County\",\n      \"properties\": {\n        \"dtype\": \"category\",\n        \"num_unique_values\": 9,\n        \"samples\": [\n          \"Solano County\",\n          \"Contra Costa County\",\n          \"San Mateo County\"\n        ],\n        \"semantic_type\": \"\",\n        \"description\": \"\"\n      }\n    },\n    {\n      \"column\": \"Year\",\n      \"properties\": {\n        \"dtype\": \"number\",\n        \"std\": 8,\n        \"min\": 1990,\n        \"max\": 2017,\n        \"num_unique_values\": 28,\n        \"samples\": [\n          1999,\n          2015,\n          1998\n        ],\n        \"semantic_type\": \"\",\n        \"description\": \"\"\n      }\n    },\n    {\n      \"column\": \"TOTALproduction\",\n      \"properties\": {\n        \"dtype\": \"number\",\n        \"std\": 481,\n        \"min\": -7915,\n        \"max\": 5114,\n        \"num_unique_values\": 727,\n        \"samples\": [\n          1428,\n          541,\n          -6\n        ],\n        \"semantic_type\": \"\",\n        \"description\": \"\"\n      }\n    },\n    {\n      \"column\": \"SFproduction\",\n      \"properties\": {\n        \"dtype\": \"number\",\n        \"std\": 295,\n        \"min\": -7467,\n        \"max\": 2529,\n        \"num_unique_values\": 602,\n        \"samples\": [\n          420,\n          -79,\n          522\n        ],\n        \"semantic_type\": \"\",\n        \"description\": \"\"\n      }\n    },\n    {\n      \"column\": \"Mfproduction\",\n      \"properties\": {\n        \"dtype\": \"number\",\n        \"std\": 288,\n        \"min\": -1104,\n        \"max\": 5065,\n        \"num_unique_values\": 526,\n        \"samples\": [\n          117,\n          328,\n          -146\n        ],\n        \"semantic_type\": \"\",\n        \"description\": \"\"\n      }\n    },\n    {\n      \"column\": \"Mhproduction\",\n      \"properties\": {\n        \"dtype\": \"number\",\n        \"std\": 25,\n        \"min\": -862,\n        \"max\": 191,\n        \"num_unique_values\": 107,\n        \"samples\": [\n          42,\n          3,\n          -17\n        ],\n        \"semantic_type\": \"\",\n        \"description\": \"\"\n      }\n    }\n  ]\n}"
            }
          },
          "metadata": {},
          "execution_count": 40
        }
      ]
    },
    {
      "cell_type": "code",
      "source": [
        "# DataFrame info\n",
        "print(\"\\nDataFrame info:\")\n",
        "print(data.info())"
      ],
      "metadata": {
        "id": "dZIzz9R-t9yx",
        "colab": {
          "base_uri": "https://localhost:8080/"
        },
        "outputId": "6b954557-d6e0-4c87-818f-755cb3282775"
      },
      "execution_count": null,
      "outputs": [
        {
          "output_type": "stream",
          "name": "stdout",
          "text": [
            "\n",
            "DataFrame info:\n",
            "<class 'pandas.core.frame.DataFrame'>\n",
            "RangeIndex: 3037 entries, 0 to 3036\n",
            "Data columns (total 7 columns):\n",
            " #   Column           Non-Null Count  Dtype \n",
            "---  ------           --------------  ----- \n",
            " 0   City             3037 non-null   object\n",
            " 1   County           3037 non-null   object\n",
            " 2   Year             3037 non-null   int64 \n",
            " 3   TOTALproduction  3037 non-null   int64 \n",
            " 4   SFproduction     3037 non-null   int64 \n",
            " 5   Mfproduction     3037 non-null   int64 \n",
            " 6   Mhproduction     3037 non-null   int64 \n",
            "dtypes: int64(5), object(2)\n",
            "memory usage: 166.2+ KB\n",
            "None\n"
          ]
        }
      ]
    },
    {
      "cell_type": "code",
      "source": [
        "#count no of county\n",
        "count_county=pd.value_counts(data['County'],sort=True)\n",
        "count_county"
      ],
      "metadata": {
        "colab": {
          "base_uri": "https://localhost:8080/"
        },
        "id": "QRpPChZC5B1b",
        "outputId": "7d5780cc-3ae2-436f-8f45-2bf31e29f424"
      },
      "execution_count": null,
      "outputs": [
        {
          "output_type": "execute_result",
          "data": {
            "text/plain": [
              "San Mateo County        588\n",
              "Contra Costa County     550\n",
              "Santa Clara County      448\n",
              "Alameda County          420\n",
              "Marin County            336\n",
              "Sonoma County           277\n",
              "Solano County           224\n",
              "Napa County             166\n",
              "San Francisco County     28\n",
              "Name: County, dtype: int64"
            ]
          },
          "metadata": {},
          "execution_count": 42
        }
      ]
    },
    {
      "cell_type": "code",
      "source": [
        "# Plot the different county counts\n",
        "plt.figure(figsize=(10, 6))\n",
        "count_county.plot(kind='bar', rot=45)\n",
        "plt.title(\"Total County Distribution\")\n",
        "plt.xlabel(\"County\")\n",
        "plt.ylabel(\"Frequency\")\n",
        "plt.show()"
      ],
      "metadata": {
        "colab": {
          "base_uri": "https://localhost:8080/",
          "height": 666
        },
        "id": "3Gdkct-E5FOF",
        "outputId": "4e65ab23-2402-46b2-ed2e-c0310a00ad68"
      },
      "execution_count": null,
      "outputs": [
        {
          "output_type": "display_data",
          "data": {
            "text/plain": [
              "<Figure size 1000x600 with 1 Axes>"
            ],
            "image/png": "[encoded data removed]"
          },
          "metadata": {}
        }
      ]
    },
    {
      "cell_type": "code",
      "source": [
        "#separate different County\n",
        "san_mateo=data[data['County']==\"San Mateo County \"]\n",
        "contra_costa=data[data['County']==\"Contra Costa County \"]\n",
        "santa_clara=data[data['County']==\"Santa Clara County\"]\n",
        "alameda=data[data['County']==\"Alameda County\"]\n",
        "marin=data[data['County']==\"Marin County\"]\n",
        "sonoma=data[data['County']==\"Sonoma County\"]\n",
        "solanor=data[data['County']==\"Solano County\"]\n",
        "napa=data[data['County']==\"Napa County\"]\n",
        "san_francisco=data[data['County']==\"San Francisco County\"]"
      ],
      "metadata": {
        "id": "GY_ozbRp6Coz"
      },
      "execution_count": null,
      "outputs": []
    },
    {
      "cell_type": "code",
      "source": [
        "#features and target\n",
        "features=data.drop(['County'],axis='columns')\n",
        "target=data[\"County\"]"
      ],
      "metadata": {
        "id": "55-8cp0h8Q7i"
      },
      "execution_count": null,
      "outputs": []
    },
    {
      "cell_type": "markdown",
      "source": [
        "**SMOTE**"
      ],
      "metadata": {
        "id": "_28sCuFI7bUO"
      }
    },
    {
      "cell_type": "code",
      "source": [
        "#use SMOTE to balance\n",
        "from sklearn.preprocessing import OneHotEncoder\n",
        "encoder = OneHotEncoder()\n",
        "features_encoded = encoder.fit_transform(features)\n",
        "from imblearn.combine import SMOTETomek\n",
        "smtk=SMOTETomek()\n",
        "x_res,y_res=smtk.fit_resample(features_encoded,target)\n",
        "x_res.shape"
      ],
      "metadata": {
        "colab": {
          "base_uri": "https://localhost:8080/"
        },
        "id": "Er3jCZIF8WW2",
        "outputId": "0f14c2a7-cc8e-4216-8746-741caa71ecaf"
      },
      "execution_count": null,
      "outputs": [
        {
          "output_type": "execute_result",
          "data": {
            "text/plain": [
              "(5216, 2099)"
            ]
          },
          "metadata": {},
          "execution_count": 50
        }
      ]
    },
    {
      "cell_type": "code",
      "source": [
        "#now plot again\n",
        "count_county=pd.value_counts(y_res,sort=True)\n",
        "\n",
        "# Plot the total volume for each name\n",
        "plt.figure(figsize=(10, 6))\n",
        "count_county.plot(kind='bar', rot=45)\n",
        "plt.title(\"Total County Distribution\")\n",
        "plt.xlabel(\"County\")\n",
        "plt.ylabel(\"Frequency\")\n",
        "plt.show()"
      ],
      "metadata": {
        "colab": {
          "base_uri": "https://localhost:8080/",
          "height": 666
        },
        "id": "B1sLVBcK8076",
        "outputId": "bf39a717-5232-4458-fcc1-5b7dd49dd310"
      },
      "execution_count": null,
      "outputs": [
        {
          "output_type": "display_data",
          "data": {
            "text/plain": [
              "<Figure size 1000x600 with 1 Axes>"
            ],
            "image/png": "[encoded data removed]"
          },
          "metadata": {}
        }
      ]
    },
    {
      "cell_type": "code",
      "source": [
        "count_county=pd.value_counts(y_res,sort=True)\n",
        "count_county"
      ],
      "metadata": {
        "colab": {
          "base_uri": "https://localhost:8080/"
        },
        "id": "CpE1HwCo9PSZ",
        "outputId": "a496c733-6e93-4045-a9ba-a5b66fdd78c5"
      },
      "execution_count": null,
      "outputs": [
        {
          "output_type": "execute_result",
          "data": {
            "text/plain": [
              "Napa County             588\n",
              "San Francisco County    588\n",
              "Solano County           588\n",
              "Sonoma County           588\n",
              "Santa Clara County      581\n",
              "Alameda County          578\n",
              "Marin County            578\n",
              "Contra Costa County     566\n",
              "San Mateo County        561\n",
              "Name: County, dtype: int64"
            ]
          },
          "metadata": {},
          "execution_count": 57
        }
      ]
    },
    {
      "cell_type": "code",
      "source": [
        "# Convert csr_matrix to DataFrame\n",
        "x_res_df = pd.DataFrame(x_res.toarray())\n",
        "\n",
        "# Save resampled data to CSV files\n",
        "x_res_df.to_csv(\"x_resampled.csv\", index=False)\n",
        "pd.DataFrame(y_res).to_csv(\"y_resampled.csv\", index=False)\n"
      ],
      "metadata": {
        "id": "uNO6H0VDIkL4"
      },
      "execution_count": null,
      "outputs": []
    },
    {
      "cell_type": "code",
      "source": [
        "x_res"
      ],
      "metadata": {
        "colab": {
          "base_uri": "https://localhost:8080/"
        },
        "id": "RpWDTQCbI8Jf",
        "outputId": "3c606573-333f-4336-9dc2-92af438f011d"
      },
      "execution_count": null,
      "outputs": [
        {
          "output_type": "execute_result",
          "data": {
            "text/plain": [
              "<5216x2099 sparse matrix of type '<class 'numpy.float64'>'\n",
              "\twith 39950 stored elements in Compressed Sparse Row format>"
            ]
          },
          "metadata": {},
          "execution_count": 67
        }
      ]
    },
    {
      "cell_type": "code",
      "source": [
        "y_res"
      ],
      "metadata": {
        "colab": {
          "base_uri": "https://localhost:8080/"
        },
        "id": "BY9m8_RGJFXi",
        "outputId": "0ac35c85-2eeb-4bea-e235-a570b5411c8b"
      },
      "execution_count": null,
      "outputs": [
        {
          "output_type": "execute_result",
          "data": {
            "text/plain": [
              "0       Alameda County\n",
              "1       Alameda County\n",
              "2       Alameda County\n",
              "3       Alameda County\n",
              "4       Alameda County\n",
              "             ...      \n",
              "5211     Sonoma County\n",
              "5212     Sonoma County\n",
              "5213     Sonoma County\n",
              "5214     Sonoma County\n",
              "5215     Sonoma County\n",
              "Name: County, Length: 5216, dtype: object"
            ]
          },
          "metadata": {},
          "execution_count": 63
        }
      ]
    }
  ]
}