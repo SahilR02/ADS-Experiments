{
  "nbformat": 4,
  "nbformat_minor": 0,
  "metadata": {
    "colab": {
      "provenance": [],
      "authorship_tag": "ABX9TyMffzJ2hLh3j3H0MpEDN/NI",
      "include_colab_link": true
    },
    "kernelspec": {
      "name": "python3",
      "display_name": "Python 3"
    },
    "language_info": {
      "name": "python"
    }
  },
  "cells": [
    {
      "cell_type": "markdown",
      "metadata": {
        "id": "view-in-github",
        "colab_type": "text"
      },
      "source": [
        "<a href=\"https://colab.research.google.com/github/SahilR02/ADS-Experiments/blob/main/ADS_Exp2_47.ipynb\" target=\"_parent\"><img src=\"https://colab.research.google.com/assets/colab-badge.svg\" alt=\"Open In Colab\"/></a>"
      ]
    },
    {
      "cell_type": "markdown",
      "source": [
        "## **ADS Experiment No.2**"
      ],
      "metadata": {
        "id": "zMKCeu2ylil0"
      }
    },
    {
      "cell_type": "code",
      "execution_count": 2,
      "metadata": {
        "id": "OxoD2rSgXQcx"
      },
      "outputs": [],
      "source": [
        "import pandas as pd\n",
        "import numpy as np\n",
        "import matplotlib.pyplot as plt\n",
        "import seaborn as sns"
      ]
    },
    {
      "cell_type": "code",
      "source": [
        "data = pd.read_csv('district_apy.csv')\n",
        "data"
      ],
      "metadata": {
        "id": "0sYWVDUpYWRX",
        "colab": {
          "base_uri": "https://localhost:8080/",
          "height": 423
        },
        "outputId": "e0b55119-9d7b-4377-a0e6-43fe3427b648"
      },
      "execution_count": 3,
      "outputs": [
        {
          "output_type": "execute_result",
          "data": {
            "text/plain": [
              "                          ds_st      DS_1971      ST_1971  year    crop  \\\n",
              "0       24 Parganas_West Bengal  24 Parganas  West Bengal  1956  Barley   \n",
              "1       24 Parganas_West Bengal  24 Parganas  West Bengal  1957  Barley   \n",
              "2       24 Parganas_West Bengal  24 Parganas  West Bengal  1958  Barley   \n",
              "3       24 Parganas_West Bengal  24 Parganas  West Bengal  1959  Barley   \n",
              "4       24 Parganas_West Bengal  24 Parganas  West Bengal  1960  Barley   \n",
              "...                         ...          ...          ...   ...     ...   \n",
              "428553     Yavatmal_Maharashtra     Yavatmal  Maharashtra  2004   Wheat   \n",
              "428554     Yavatmal_Maharashtra     Yavatmal  Maharashtra  2005   Wheat   \n",
              "428555     Yavatmal_Maharashtra     Yavatmal  Maharashtra  2006   Wheat   \n",
              "428556     Yavatmal_Maharashtra     Yavatmal  Maharashtra  2007   Wheat   \n",
              "428557     Yavatmal_Maharashtra     Yavatmal  Maharashtra  2008   Wheat   \n",
              "\n",
              "             area  production     yield  \n",
              "0        0.040486    0.014221  0.351264  \n",
              "1        0.040486    0.015640  0.386298  \n",
              "2        0.202429    0.126535  0.625084  \n",
              "3        0.080972    0.032623  0.402893  \n",
              "4        0.040486    0.021948  0.542109  \n",
              "...           ...         ...       ...  \n",
              "428553   5.100000    5.000000  0.980392  \n",
              "428554  15.900000   15.800000  0.993711  \n",
              "428555  33.100000   37.600000  1.135952  \n",
              "428556  45.600000   82.200000  1.802632  \n",
              "428557  38.000000   41.200000  1.084211  \n",
              "\n",
              "[428558 rows x 8 columns]"
            ],
            "text/html": [
              "\n",
              "  <div id=\"df-411aaaac-1eb1-4528-85bb-ee260afaf7ff\" class=\"colab-df-container\">\n",
              "    <div>\n",
              "<style scoped>\n",
              "    .dataframe tbody tr th:only-of-type {\n",
              "        vertical-align: middle;\n",
              "    }\n",
              "\n",
              "    .dataframe tbody tr th {\n",
              "        vertical-align: top;\n",
              "    }\n",
              "\n",
              "    .dataframe thead th {\n",
              "        text-align: right;\n",
              "    }\n",
              "</style>\n",
              "<table border=\"1\" class=\"dataframe\">\n",
              "  <thead>\n",
              "    <tr style=\"text-align: right;\">\n",
              "      <th></th>\n",
              "      <th>ds_st</th>\n",
              "      <th>DS_1971</th>\n",
              "      <th>ST_1971</th>\n",
              "      <th>year</th>\n",
              "      <th>crop</th>\n",
              "      <th>area</th>\n",
              "      <th>production</th>\n",
              "      <th>yield</th>\n",
              "    </tr>\n",
              "  </thead>\n",
              "  <tbody>\n",
              "    <tr>\n",
              "      <th>0</th>\n",
              "      <td>24 Parganas_West Bengal</td>\n",
              "      <td>24 Parganas</td>\n",
              "      <td>West Bengal</td>\n",
              "      <td>1956</td>\n",
              "      <td>Barley</td>\n",
              "      <td>0.040486</td>\n",
              "      <td>0.014221</td>\n",
              "      <td>0.351264</td>\n",
              "    </tr>\n",
              "    <tr>\n",
              "      <th>1</th>\n",
              "      <td>24 Parganas_West Bengal</td>\n",
              "      <td>24 Parganas</td>\n",
              "      <td>West Bengal</td>\n",
              "      <td>1957</td>\n",
              "      <td>Barley</td>\n",
              "      <td>0.040486</td>\n",
              "      <td>0.015640</td>\n",
              "      <td>0.386298</td>\n",
              "    </tr>\n",
              "    <tr>\n",
              "      <th>2</th>\n",
              "      <td>24 Parganas_West Bengal</td>\n",
              "      <td>24 Parganas</td>\n",
              "      <td>West Bengal</td>\n",
              "      <td>1958</td>\n",
              "      <td>Barley</td>\n",
              "      <td>0.202429</td>\n",
              "      <td>0.126535</td>\n",
              "      <td>0.625084</td>\n",
              "    </tr>\n",
              "    <tr>\n",
              "      <th>3</th>\n",
              "      <td>24 Parganas_West Bengal</td>\n",
              "      <td>24 Parganas</td>\n",
              "      <td>West Bengal</td>\n",
              "      <td>1959</td>\n",
              "      <td>Barley</td>\n",
              "      <td>0.080972</td>\n",
              "      <td>0.032623</td>\n",
              "      <td>0.402893</td>\n",
              "    </tr>\n",
              "    <tr>\n",
              "      <th>4</th>\n",
              "      <td>24 Parganas_West Bengal</td>\n",
              "      <td>24 Parganas</td>\n",
              "      <td>West Bengal</td>\n",
              "      <td>1960</td>\n",
              "      <td>Barley</td>\n",
              "      <td>0.040486</td>\n",
              "      <td>0.021948</td>\n",
              "      <td>0.542109</td>\n",
              "    </tr>\n",
              "    <tr>\n",
              "      <th>...</th>\n",
              "      <td>...</td>\n",
              "      <td>...</td>\n",
              "      <td>...</td>\n",
              "      <td>...</td>\n",
              "      <td>...</td>\n",
              "      <td>...</td>\n",
              "      <td>...</td>\n",
              "      <td>...</td>\n",
              "    </tr>\n",
              "    <tr>\n",
              "      <th>428553</th>\n",
              "      <td>Yavatmal_Maharashtra</td>\n",
              "      <td>Yavatmal</td>\n",
              "      <td>Maharashtra</td>\n",
              "      <td>2004</td>\n",
              "      <td>Wheat</td>\n",
              "      <td>5.100000</td>\n",
              "      <td>5.000000</td>\n",
              "      <td>0.980392</td>\n",
              "    </tr>\n",
              "    <tr>\n",
              "      <th>428554</th>\n",
              "      <td>Yavatmal_Maharashtra</td>\n",
              "      <td>Yavatmal</td>\n",
              "      <td>Maharashtra</td>\n",
              "      <td>2005</td>\n",
              "      <td>Wheat</td>\n",
              "      <td>15.900000</td>\n",
              "      <td>15.800000</td>\n",
              "      <td>0.993711</td>\n",
              "    </tr>\n",
              "    <tr>\n",
              "      <th>428555</th>\n",
              "      <td>Yavatmal_Maharashtra</td>\n",
              "      <td>Yavatmal</td>\n",
              "      <td>Maharashtra</td>\n",
              "      <td>2006</td>\n",
              "      <td>Wheat</td>\n",
              "      <td>33.100000</td>\n",
              "      <td>37.600000</td>\n",
              "      <td>1.135952</td>\n",
              "    </tr>\n",
              "    <tr>\n",
              "      <th>428556</th>\n",
              "      <td>Yavatmal_Maharashtra</td>\n",
              "      <td>Yavatmal</td>\n",
              "      <td>Maharashtra</td>\n",
              "      <td>2007</td>\n",
              "      <td>Wheat</td>\n",
              "      <td>45.600000</td>\n",
              "      <td>82.200000</td>\n",
              "      <td>1.802632</td>\n",
              "    </tr>\n",
              "    <tr>\n",
              "      <th>428557</th>\n",
              "      <td>Yavatmal_Maharashtra</td>\n",
              "      <td>Yavatmal</td>\n",
              "      <td>Maharashtra</td>\n",
              "      <td>2008</td>\n",
              "      <td>Wheat</td>\n",
              "      <td>38.000000</td>\n",
              "      <td>41.200000</td>\n",
              "      <td>1.084211</td>\n",
              "    </tr>\n",
              "  </tbody>\n",
              "</table>\n",
              "<p>428558 rows × 8 columns</p>\n",
              "</div>\n",
              "    <div class=\"colab-df-buttons\">\n",
              "\n",
              "  <div class=\"colab-df-container\">\n",
              "    <button class=\"colab-df-convert\" onclick=\"convertToInteractive('df-411aaaac-1eb1-4528-85bb-ee260afaf7ff')\"\n",
              "            title=\"Convert this dataframe to an interactive table.\"\n",
              "            style=\"display:none;\">\n",
              "\n",
              "  <svg xmlns=\"http://www.w3.org/2000/svg\" height=\"24px\" viewBox=\"0 -960 960 960\">\n",
              "    <path d=\"M120-120v-720h720v720H120Zm60-500h600v-160H180v160Zm220 220h160v-160H400v160Zm0 220h160v-160H400v160ZM180-400h160v-160H180v160Zm440 0h160v-160H620v160ZM180-180h160v-160H180v160Zm440 0h160v-160H620v160Z\"/>\n",
              "  </svg>\n",
              "    </button>\n",
              "\n",
              "  <style>\n",
              "    .colab-df-container {\n",
              "      display:flex;\n",
              "      gap: 12px;\n",
              "    }\n",
              "\n",
              "    .colab-df-convert {\n",
              "      background-color: #E8F0FE;\n",
              "      border: none;\n",
              "      border-radius: 50%;\n",
              "      cursor: pointer;\n",
              "      display: none;\n",
              "      fill: #1967D2;\n",
              "      height: 32px;\n",
              "      padding: 0 0 0 0;\n",
              "      width: 32px;\n",
              "    }\n",
              "\n",
              "    .colab-df-convert:hover {\n",
              "      background-color: #E2EBFA;\n",
              "      box-shadow: 0px 1px 2px rgba(60, 64, 67, 0.3), 0px 1px 3px 1px rgba(60, 64, 67, 0.15);\n",
              "      fill: #174EA6;\n",
              "    }\n",
              "\n",
              "    .colab-df-buttons div {\n",
              "      margin-bottom: 4px;\n",
              "    }\n",
              "\n",
              "    [theme=dark] .colab-df-convert {\n",
              "      background-color: #3B4455;\n",
              "      fill: #D2E3FC;\n",
              "    }\n",
              "\n",
              "    [theme=dark] .colab-df-convert:hover {\n",
              "      background-color: #434B5C;\n",
              "      box-shadow: 0px 1px 3px 1px rgba(0, 0, 0, 0.15);\n",
              "      filter: drop-shadow(0px 1px 2px rgba(0, 0, 0, 0.3));\n",
              "      fill: #FFFFFF;\n",
              "    }\n",
              "  </style>\n",
              "\n",
              "    <script>\n",
              "      const buttonEl =\n",
              "        document.querySelector('#df-411aaaac-1eb1-4528-85bb-ee260afaf7ff button.colab-df-convert');\n",
              "      buttonEl.style.display =\n",
              "        google.colab.kernel.accessAllowed ? 'block' : 'none';\n",
              "\n",
              "      async function convertToInteractive(key) {\n",
              "        const element = document.querySelector('#df-411aaaac-1eb1-4528-85bb-ee260afaf7ff');\n",
              "        const dataTable =\n",
              "          await google.colab.kernel.invokeFunction('convertToInteractive',\n",
              "                                                    [key], {});\n",
              "        if (!dataTable) return;\n",
              "\n",
              "        const docLinkHtml = 'Like what you see? Visit the ' +\n",
              "          '<a target=\"_blank\" href=https://colab.research.google.com/notebooks/data_table.ipynb>data table notebook</a>'\n",
              "          + ' to learn more about interactive tables.';\n",
              "        element.innerHTML = '';\n",
              "        dataTable['output_type'] = 'display_data';\n",
              "        await google.colab.output.renderOutput(dataTable, element);\n",
              "        const docLink = document.createElement('div');\n",
              "        docLink.innerHTML = docLinkHtml;\n",
              "        element.appendChild(docLink);\n",
              "      }\n",
              "    </script>\n",
              "  </div>\n",
              "\n",
              "\n",
              "<div id=\"df-48486e1e-adae-4147-8ccb-fc24428a9f60\">\n",
              "  <button class=\"colab-df-quickchart\" onclick=\"quickchart('df-48486e1e-adae-4147-8ccb-fc24428a9f60')\"\n",
              "            title=\"Suggest charts\"\n",
              "            style=\"display:none;\">\n",
              "\n",
              "<svg xmlns=\"http://www.w3.org/2000/svg\" height=\"24px\"viewBox=\"0 0 24 24\"\n",
              "     width=\"24px\">\n",
              "    <g>\n",
              "        <path d=\"M19 3H5c-1.1 0-2 .9-2 2v14c0 1.1.9 2 2 2h14c1.1 0 2-.9 2-2V5c0-1.1-.9-2-2-2zM9 17H7v-7h2v7zm4 0h-2V7h2v10zm4 0h-2v-4h2v4z\"/>\n",
              "    </g>\n",
              "</svg>\n",
              "  </button>\n",
              "\n",
              "<style>\n",
              "  .colab-df-quickchart {\n",
              "      --bg-color: #E8F0FE;\n",
              "      --fill-color: #1967D2;\n",
              "      --hover-bg-color: #E2EBFA;\n",
              "      --hover-fill-color: #174EA6;\n",
              "      --disabled-fill-color: #AAA;\n",
              "      --disabled-bg-color: #DDD;\n",
              "  }\n",
              "\n",
              "  [theme=dark] .colab-df-quickchart {\n",
              "      --bg-color: #3B4455;\n",
              "      --fill-color: #D2E3FC;\n",
              "      --hover-bg-color: #434B5C;\n",
              "      --hover-fill-color: #FFFFFF;\n",
              "      --disabled-bg-color: #3B4455;\n",
              "      --disabled-fill-color: #666;\n",
              "  }\n",
              "\n",
              "  .colab-df-quickchart {\n",
              "    background-color: var(--bg-color);\n",
              "    border: none;\n",
              "    border-radius: 50%;\n",
              "    cursor: pointer;\n",
              "    display: none;\n",
              "    fill: var(--fill-color);\n",
              "    height: 32px;\n",
              "    padding: 0;\n",
              "    width: 32px;\n",
              "  }\n",
              "\n",
              "  .colab-df-quickchart:hover {\n",
              "    background-color: var(--hover-bg-color);\n",
              "    box-shadow: 0 1px 2px rgba(60, 64, 67, 0.3), 0 1px 3px 1px rgba(60, 64, 67, 0.15);\n",
              "    fill: var(--button-hover-fill-color);\n",
              "  }\n",
              "\n",
              "  .colab-df-quickchart-complete:disabled,\n",
              "  .colab-df-quickchart-complete:disabled:hover {\n",
              "    background-color: var(--disabled-bg-color);\n",
              "    fill: var(--disabled-fill-color);\n",
              "    box-shadow: none;\n",
              "  }\n",
              "\n",
              "  .colab-df-spinner {\n",
              "    border: 2px solid var(--fill-color);\n",
              "    border-color: transparent;\n",
              "    border-bottom-color: var(--fill-color);\n",
              "    animation:\n",
              "      spin 1s steps(1) infinite;\n",
              "  }\n",
              "\n",
              "  @keyframes spin {\n",
              "    0% {\n",
              "      border-color: transparent;\n",
              "      border-bottom-color: var(--fill-color);\n",
              "      border-left-color: var(--fill-color);\n",
              "    }\n",
              "    20% {\n",
              "      border-color: transparent;\n",
              "      border-left-color: var(--fill-color);\n",
              "      border-top-color: var(--fill-color);\n",
              "    }\n",
              "    30% {\n",
              "      border-color: transparent;\n",
              "      border-left-color: var(--fill-color);\n",
              "      border-top-color: var(--fill-color);\n",
              "      border-right-color: var(--fill-color);\n",
              "    }\n",
              "    40% {\n",
              "      border-color: transparent;\n",
              "      border-right-color: var(--fill-color);\n",
              "      border-top-color: var(--fill-color);\n",
              "    }\n",
              "    60% {\n",
              "      border-color: transparent;\n",
              "      border-right-color: var(--fill-color);\n",
              "    }\n",
              "    80% {\n",
              "      border-color: transparent;\n",
              "      border-right-color: var(--fill-color);\n",
              "      border-bottom-color: var(--fill-color);\n",
              "    }\n",
              "    90% {\n",
              "      border-color: transparent;\n",
              "      border-bottom-color: var(--fill-color);\n",
              "    }\n",
              "  }\n",
              "</style>\n",
              "\n",
              "  <script>\n",
              "    async function quickchart(key) {\n",
              "      const quickchartButtonEl =\n",
              "        document.querySelector('#' + key + ' button');\n",
              "      quickchartButtonEl.disabled = true;  // To prevent multiple clicks.\n",
              "      quickchartButtonEl.classList.add('colab-df-spinner');\n",
              "      try {\n",
              "        const charts = await google.colab.kernel.invokeFunction(\n",
              "            'suggestCharts', [key], {});\n",
              "      } catch (error) {\n",
              "        console.error('Error during call to suggestCharts:', error);\n",
              "      }\n",
              "      quickchartButtonEl.classList.remove('colab-df-spinner');\n",
              "      quickchartButtonEl.classList.add('colab-df-quickchart-complete');\n",
              "    }\n",
              "    (() => {\n",
              "      let quickchartButtonEl =\n",
              "        document.querySelector('#df-48486e1e-adae-4147-8ccb-fc24428a9f60 button');\n",
              "      quickchartButtonEl.style.display =\n",
              "        google.colab.kernel.accessAllowed ? 'block' : 'none';\n",
              "    })();\n",
              "  </script>\n",
              "</div>\n",
              "    </div>\n",
              "  </div>\n"
            ],
            "application/vnd.google.colaboratory.intrinsic+json": {
              "type": "dataframe",
              "variable_name": "data"
            }
          },
          "metadata": {},
          "execution_count": 3
        }
      ]
    },
    {
      "cell_type": "code",
      "source": [
        "data.describe()"
      ],
      "metadata": {
        "colab": {
          "base_uri": "https://localhost:8080/",
          "height": 300
        },
        "id": "CrfouJ_UaIiM",
        "outputId": "00dbfa2e-4329-40b7-d87d-3bbcaca2e020"
      },
      "execution_count": 17,
      "outputs": [
        {
          "output_type": "execute_result",
          "data": {
            "text/plain": [
              "                year           area     production          yield\n",
              "count  428558.000000  381364.000000  315617.000000  199381.000000\n",
              "mean     1982.000000      20.685934      28.058628       1.275256\n",
              "std        15.297076      61.116639     111.082971       9.278669\n",
              "min      1956.000000       0.000000       0.000000       0.000063\n",
              "25%      1969.000000       0.000000       0.000000       0.411765\n",
              "50%      1982.000000       0.820000       0.300000       0.733287\n",
              "75%      1995.000000      11.340000       8.890000       1.204639\n",
              "max      2008.000000    1174.000000    3847.600000    1454.000000"
            ],
            "text/html": [
              "\n",
              "  <div id=\"df-e4975333-0298-4f61-98e7-81d86df809fd\" class=\"colab-df-container\">\n",
              "    <div>\n",
              "<style scoped>\n",
              "    .dataframe tbody tr th:only-of-type {\n",
              "        vertical-align: middle;\n",
              "    }\n",
              "\n",
              "    .dataframe tbody tr th {\n",
              "        vertical-align: top;\n",
              "    }\n",
              "\n",
              "    .dataframe thead th {\n",
              "        text-align: right;\n",
              "    }\n",
              "</style>\n",
              "<table border=\"1\" class=\"dataframe\">\n",
              "  <thead>\n",
              "    <tr style=\"text-align: right;\">\n",
              "      <th></th>\n",
              "      <th>year</th>\n",
              "      <th>area</th>\n",
              "      <th>production</th>\n",
              "      <th>yield</th>\n",
              "    </tr>\n",
              "  </thead>\n",
              "  <tbody>\n",
              "    <tr>\n",
              "      <th>count</th>\n",
              "      <td>428558.000000</td>\n",
              "      <td>381364.000000</td>\n",
              "      <td>315617.000000</td>\n",
              "      <td>199381.000000</td>\n",
              "    </tr>\n",
              "    <tr>\n",
              "      <th>mean</th>\n",
              "      <td>1982.000000</td>\n",
              "      <td>20.685934</td>\n",
              "      <td>28.058628</td>\n",
              "      <td>1.275256</td>\n",
              "    </tr>\n",
              "    <tr>\n",
              "      <th>std</th>\n",
              "      <td>15.297076</td>\n",
              "      <td>61.116639</td>\n",
              "      <td>111.082971</td>\n",
              "      <td>9.278669</td>\n",
              "    </tr>\n",
              "    <tr>\n",
              "      <th>min</th>\n",
              "      <td>1956.000000</td>\n",
              "      <td>0.000000</td>\n",
              "      <td>0.000000</td>\n",
              "      <td>0.000063</td>\n",
              "    </tr>\n",
              "    <tr>\n",
              "      <th>25%</th>\n",
              "      <td>1969.000000</td>\n",
              "      <td>0.000000</td>\n",
              "      <td>0.000000</td>\n",
              "      <td>0.411765</td>\n",
              "    </tr>\n",
              "    <tr>\n",
              "      <th>50%</th>\n",
              "      <td>1982.000000</td>\n",
              "      <td>0.820000</td>\n",
              "      <td>0.300000</td>\n",
              "      <td>0.733287</td>\n",
              "    </tr>\n",
              "    <tr>\n",
              "      <th>75%</th>\n",
              "      <td>1995.000000</td>\n",
              "      <td>11.340000</td>\n",
              "      <td>8.890000</td>\n",
              "      <td>1.204639</td>\n",
              "    </tr>\n",
              "    <tr>\n",
              "      <th>max</th>\n",
              "      <td>2008.000000</td>\n",
              "      <td>1174.000000</td>\n",
              "      <td>3847.600000</td>\n",
              "      <td>1454.000000</td>\n",
              "    </tr>\n",
              "  </tbody>\n",
              "</table>\n",
              "</div>\n",
              "    <div class=\"colab-df-buttons\">\n",
              "\n",
              "  <div class=\"colab-df-container\">\n",
              "    <button class=\"colab-df-convert\" onclick=\"convertToInteractive('df-e4975333-0298-4f61-98e7-81d86df809fd')\"\n",
              "            title=\"Convert this dataframe to an interactive table.\"\n",
              "            style=\"display:none;\">\n",
              "\n",
              "  <svg xmlns=\"http://www.w3.org/2000/svg\" height=\"24px\" viewBox=\"0 -960 960 960\">\n",
              "    <path d=\"M120-120v-720h720v720H120Zm60-500h600v-160H180v160Zm220 220h160v-160H400v160Zm0 220h160v-160H400v160ZM180-400h160v-160H180v160Zm440 0h160v-160H620v160ZM180-180h160v-160H180v160Zm440 0h160v-160H620v160Z\"/>\n",
              "  </svg>\n",
              "    </button>\n",
              "\n",
              "  <style>\n",
              "    .colab-df-container {\n",
              "      display:flex;\n",
              "      gap: 12px;\n",
              "    }\n",
              "\n",
              "    .colab-df-convert {\n",
              "      background-color: #E8F0FE;\n",
              "      border: none;\n",
              "      border-radius: 50%;\n",
              "      cursor: pointer;\n",
              "      display: none;\n",
              "      fill: #1967D2;\n",
              "      height: 32px;\n",
              "      padding: 0 0 0 0;\n",
              "      width: 32px;\n",
              "    }\n",
              "\n",
              "    .colab-df-convert:hover {\n",
              "      background-color: #E2EBFA;\n",
              "      box-shadow: 0px 1px 2px rgba(60, 64, 67, 0.3), 0px 1px 3px 1px rgba(60, 64, 67, 0.15);\n",
              "      fill: #174EA6;\n",
              "    }\n",
              "\n",
              "    .colab-df-buttons div {\n",
              "      margin-bottom: 4px;\n",
              "    }\n",
              "\n",
              "    [theme=dark] .colab-df-convert {\n",
              "      background-color: #3B4455;\n",
              "      fill: #D2E3FC;\n",
              "    }\n",
              "\n",
              "    [theme=dark] .colab-df-convert:hover {\n",
              "      background-color: #434B5C;\n",
              "      box-shadow: 0px 1px 3px 1px rgba(0, 0, 0, 0.15);\n",
              "      filter: drop-shadow(0px 1px 2px rgba(0, 0, 0, 0.3));\n",
              "      fill: #FFFFFF;\n",
              "    }\n",
              "  </style>\n",
              "\n",
              "    <script>\n",
              "      const buttonEl =\n",
              "        document.querySelector('#df-e4975333-0298-4f61-98e7-81d86df809fd button.colab-df-convert');\n",
              "      buttonEl.style.display =\n",
              "        google.colab.kernel.accessAllowed ? 'block' : 'none';\n",
              "\n",
              "      async function convertToInteractive(key) {\n",
              "        const element = document.querySelector('#df-e4975333-0298-4f61-98e7-81d86df809fd');\n",
              "        const dataTable =\n",
              "          await google.colab.kernel.invokeFunction('convertToInteractive',\n",
              "                                                    [key], {});\n",
              "        if (!dataTable) return;\n",
              "\n",
              "        const docLinkHtml = 'Like what you see? Visit the ' +\n",
              "          '<a target=\"_blank\" href=https://colab.research.google.com/notebooks/data_table.ipynb>data table notebook</a>'\n",
              "          + ' to learn more about interactive tables.';\n",
              "        element.innerHTML = '';\n",
              "        dataTable['output_type'] = 'display_data';\n",
              "        await google.colab.output.renderOutput(dataTable, element);\n",
              "        const docLink = document.createElement('div');\n",
              "        docLink.innerHTML = docLinkHtml;\n",
              "        element.appendChild(docLink);\n",
              "      }\n",
              "    </script>\n",
              "  </div>\n",
              "\n",
              "\n",
              "<div id=\"df-36951bbf-5b30-474c-9c63-7cca882d6790\">\n",
              "  <button class=\"colab-df-quickchart\" onclick=\"quickchart('df-36951bbf-5b30-474c-9c63-7cca882d6790')\"\n",
              "            title=\"Suggest charts\"\n",
              "            style=\"display:none;\">\n",
              "\n",
              "<svg xmlns=\"http://www.w3.org/2000/svg\" height=\"24px\"viewBox=\"0 0 24 24\"\n",
              "     width=\"24px\">\n",
              "    <g>\n",
              "        <path d=\"M19 3H5c-1.1 0-2 .9-2 2v14c0 1.1.9 2 2 2h14c1.1 0 2-.9 2-2V5c0-1.1-.9-2-2-2zM9 17H7v-7h2v7zm4 0h-2V7h2v10zm4 0h-2v-4h2v4z\"/>\n",
              "    </g>\n",
              "</svg>\n",
              "  </button>\n",
              "\n",
              "<style>\n",
              "  .colab-df-quickchart {\n",
              "      --bg-color: #E8F0FE;\n",
              "      --fill-color: #1967D2;\n",
              "      --hover-bg-color: #E2EBFA;\n",
              "      --hover-fill-color: #174EA6;\n",
              "      --disabled-fill-color: #AAA;\n",
              "      --disabled-bg-color: #DDD;\n",
              "  }\n",
              "\n",
              "  [theme=dark] .colab-df-quickchart {\n",
              "      --bg-color: #3B4455;\n",
              "      --fill-color: #D2E3FC;\n",
              "      --hover-bg-color: #434B5C;\n",
              "      --hover-fill-color: #FFFFFF;\n",
              "      --disabled-bg-color: #3B4455;\n",
              "      --disabled-fill-color: #666;\n",
              "  }\n",
              "\n",
              "  .colab-df-quickchart {\n",
              "    background-color: var(--bg-color);\n",
              "    border: none;\n",
              "    border-radius: 50%;\n",
              "    cursor: pointer;\n",
              "    display: none;\n",
              "    fill: var(--fill-color);\n",
              "    height: 32px;\n",
              "    padding: 0;\n",
              "    width: 32px;\n",
              "  }\n",
              "\n",
              "  .colab-df-quickchart:hover {\n",
              "    background-color: var(--hover-bg-color);\n",
              "    box-shadow: 0 1px 2px rgba(60, 64, 67, 0.3), 0 1px 3px 1px rgba(60, 64, 67, 0.15);\n",
              "    fill: var(--button-hover-fill-color);\n",
              "  }\n",
              "\n",
              "  .colab-df-quickchart-complete:disabled,\n",
              "  .colab-df-quickchart-complete:disabled:hover {\n",
              "    background-color: var(--disabled-bg-color);\n",
              "    fill: var(--disabled-fill-color);\n",
              "    box-shadow: none;\n",
              "  }\n",
              "\n",
              "  .colab-df-spinner {\n",
              "    border: 2px solid var(--fill-color);\n",
              "    border-color: transparent;\n",
              "    border-bottom-color: var(--fill-color);\n",
              "    animation:\n",
              "      spin 1s steps(1) infinite;\n",
              "  }\n",
              "\n",
              "  @keyframes spin {\n",
              "    0% {\n",
              "      border-color: transparent;\n",
              "      border-bottom-color: var(--fill-color);\n",
              "      border-left-color: var(--fill-color);\n",
              "    }\n",
              "    20% {\n",
              "      border-color: transparent;\n",
              "      border-left-color: var(--fill-color);\n",
              "      border-top-color: var(--fill-color);\n",
              "    }\n",
              "    30% {\n",
              "      border-color: transparent;\n",
              "      border-left-color: var(--fill-color);\n",
              "      border-top-color: var(--fill-color);\n",
              "      border-right-color: var(--fill-color);\n",
              "    }\n",
              "    40% {\n",
              "      border-color: transparent;\n",
              "      border-right-color: var(--fill-color);\n",
              "      border-top-color: var(--fill-color);\n",
              "    }\n",
              "    60% {\n",
              "      border-color: transparent;\n",
              "      border-right-color: var(--fill-color);\n",
              "    }\n",
              "    80% {\n",
              "      border-color: transparent;\n",
              "      border-right-color: var(--fill-color);\n",
              "      border-bottom-color: var(--fill-color);\n",
              "    }\n",
              "    90% {\n",
              "      border-color: transparent;\n",
              "      border-bottom-color: var(--fill-color);\n",
              "    }\n",
              "  }\n",
              "</style>\n",
              "\n",
              "  <script>\n",
              "    async function quickchart(key) {\n",
              "      const quickchartButtonEl =\n",
              "        document.querySelector('#' + key + ' button');\n",
              "      quickchartButtonEl.disabled = true;  // To prevent multiple clicks.\n",
              "      quickchartButtonEl.classList.add('colab-df-spinner');\n",
              "      try {\n",
              "        const charts = await google.colab.kernel.invokeFunction(\n",
              "            'suggestCharts', [key], {});\n",
              "      } catch (error) {\n",
              "        console.error('Error during call to suggestCharts:', error);\n",
              "      }\n",
              "      quickchartButtonEl.classList.remove('colab-df-spinner');\n",
              "      quickchartButtonEl.classList.add('colab-df-quickchart-complete');\n",
              "    }\n",
              "    (() => {\n",
              "      let quickchartButtonEl =\n",
              "        document.querySelector('#df-36951bbf-5b30-474c-9c63-7cca882d6790 button');\n",
              "      quickchartButtonEl.style.display =\n",
              "        google.colab.kernel.accessAllowed ? 'block' : 'none';\n",
              "    })();\n",
              "  </script>\n",
              "</div>\n",
              "    </div>\n",
              "  </div>\n"
            ],
            "application/vnd.google.colaboratory.intrinsic+json": {
              "type": "dataframe",
              "summary": "{\n  \"name\": \"data\",\n  \"rows\": 8,\n  \"fields\": [\n    {\n      \"column\": \"year\",\n      \"properties\": {\n        \"dtype\": \"number\",\n        \"std\": 150918.29458869778,\n        \"min\": 15.297076387937095,\n        \"max\": 428558.0,\n        \"num_unique_values\": 7,\n        \"samples\": [\n          428558.0,\n          1982.0,\n          1995.0\n        ],\n        \"semantic_type\": \"\",\n        \"description\": \"\"\n      }\n    },\n    {\n      \"column\": \"area\",\n      \"properties\": {\n        \"dtype\": \"number\",\n        \"std\": 134769.1045119248,\n        \"min\": 0.0,\n        \"max\": 381364.0,\n        \"num_unique_values\": 7,\n        \"samples\": [\n          381364.0,\n          20.685933792562327,\n          11.34\n        ],\n        \"semantic_type\": \"\",\n        \"description\": \"\"\n      }\n    },\n    {\n      \"column\": \"production\",\n      \"properties\": {\n        \"dtype\": \"number\",\n        \"std\": 111393.67426574395,\n        \"min\": 0.0,\n        \"max\": 315617.0,\n        \"num_unique_values\": 7,\n        \"samples\": [\n          315617.0,\n          28.058627593055803,\n          8.89\n        ],\n        \"semantic_type\": \"\",\n        \"description\": \"\"\n      }\n    },\n    {\n      \"column\": \"yield\",\n      \"properties\": {\n        \"dtype\": \"number\",\n        \"std\": 70419.57146311543,\n        \"min\": 6.27352572145546e-05,\n        \"max\": 199381.0,\n        \"num_unique_values\": 8,\n        \"samples\": [\n          1.2752560665547692,\n          0.733287364497875,\n          199381.0\n        ],\n        \"semantic_type\": \"\",\n        \"description\": \"\"\n      }\n    }\n  ]\n}"
            }
          },
          "metadata": {},
          "execution_count": 17
        }
      ]
    },
    {
      "cell_type": "markdown",
      "source": [
        "**Displaying Datatypes of Each column in Dataset**"
      ],
      "metadata": {
        "id": "AEc1cApllyBJ"
      }
    },
    {
      "cell_type": "code",
      "source": [
        "# Assuming 'data' is your DataFrame\n",
        "column_data_types = data.dtypes\n",
        "print(\"Data types of columns:\")\n",
        "print(column_data_types)"
      ],
      "metadata": {
        "colab": {
          "base_uri": "https://localhost:8080/"
        },
        "id": "FUV8NuDWbUUK",
        "outputId": "d52699ee-474d-432f-e30a-67caec6bb5fa"
      },
      "execution_count": 18,
      "outputs": [
        {
          "output_type": "stream",
          "name": "stdout",
          "text": [
            "Data types of columns:\n",
            "ds_st          object\n",
            "DS_1971        object\n",
            "ST_1971        object\n",
            "year            int64\n",
            "crop           object\n",
            "area          float64\n",
            "production    float64\n",
            "yield         float64\n",
            "dtype: object\n"
          ]
        }
      ]
    },
    {
      "cell_type": "markdown",
      "source": [
        "**Simple Imputer**"
      ],
      "metadata": {
        "id": "gefwx11wmQwd"
      }
    },
    {
      "cell_type": "code",
      "source": [
        "missing_values_per_column = data.isna().sum()\n",
        "print(\"Number of missing values per column:\")\n",
        "print(missing_values_per_column)"
      ],
      "metadata": {
        "colab": {
          "base_uri": "https://localhost:8080/"
        },
        "id": "SlH9ZDgbaPj2",
        "outputId": "43b4df89-e53e-410a-a150-a886b2151f93"
      },
      "execution_count": 3,
      "outputs": [
        {
          "output_type": "stream",
          "name": "stdout",
          "text": [
            "Number of missing values per column:\n",
            "ds_st              0\n",
            "DS_1971            0\n",
            "ST_1971            0\n",
            "year               0\n",
            "crop               0\n",
            "area           47194\n",
            "production    112941\n",
            "yield         229177\n",
            "dtype: int64\n"
          ]
        }
      ]
    },
    {
      "cell_type": "code",
      "source": [
        "from sklearn.impute import SimpleImputer\n",
        "\n",
        "# Instantiate SimpleImputer for numerical columns with strategy='median'\n",
        "num_imputer = SimpleImputer(strategy='most_frequent')\n",
        "\n",
        "# List of numerical columns\n",
        "num_cols = ['year', 'area', 'production', 'yield']\n",
        "\n",
        "# Apply the imputers to fill missing values\n",
        "data[num_cols] = num_imputer.fit_transform(data[num_cols])"
      ],
      "metadata": {
        "id": "z-ZHNkQwanyP"
      },
      "execution_count": 7,
      "outputs": []
    },
    {
      "cell_type": "code",
      "source": [
        "missing_values_per_column = data.isna().sum()\n",
        "print(\"Number of missing values per column:\")\n",
        "print(missing_values_per_column)"
      ],
      "metadata": {
        "colab": {
          "base_uri": "https://localhost:8080/"
        },
        "id": "fFU535Afb0Rb",
        "outputId": "fcd0947b-706d-426f-d57d-ee2ddce9455d"
      },
      "execution_count": 8,
      "outputs": [
        {
          "output_type": "stream",
          "name": "stdout",
          "text": [
            "Number of missing values per column:\n",
            "ds_st         0\n",
            "DS_1971       0\n",
            "ST_1971       0\n",
            "year          0\n",
            "crop          0\n",
            "area          0\n",
            "production    0\n",
            "yield         0\n",
            "dtype: int64\n"
          ]
        }
      ]
    },
    {
      "cell_type": "markdown",
      "source": [
        "**Most Frequent Value**"
      ],
      "metadata": {
        "id": "0S6haaO7v3Jn"
      }
    },
    {
      "cell_type": "code",
      "source": [
        "data = pd.read_csv('district_apy.csv')\n",
        "\n",
        "missing_values_per_column = data.isna().sum()\n",
        "print(\"Number of missing values per column:\")\n",
        "print(missing_values_per_column)"
      ],
      "metadata": {
        "colab": {
          "base_uri": "https://localhost:8080/"
        },
        "id": "M-dIMaTMorjT",
        "outputId": "a8f2834d-a7e7-4d40-afb8-f17580a4825c"
      },
      "execution_count": 19,
      "outputs": [
        {
          "output_type": "stream",
          "name": "stdout",
          "text": [
            "Number of missing values per column:\n",
            "ds_st              0\n",
            "DS_1971            0\n",
            "ST_1971            0\n",
            "year               0\n",
            "crop               0\n",
            "area           47194\n",
            "production    112941\n",
            "yield         229177\n",
            "dtype: int64\n"
          ]
        }
      ]
    },
    {
      "cell_type": "code",
      "source": [
        "# List of numerical columns\n",
        "num_columns = ['area', 'production', 'yield']\n",
        "\n",
        "#Fill missing values with the most frequent value in numerical columns\n",
        "data[num_columns] = data[num_columns].apply(lambda x: x.fillna(x.value_counts().index[0]))\n",
        "\n",
        "# Display the cleaned dataset\n",
        "print(\"\\nCleaned Dataset - Most Frequent Value in Numerical Columns:\")\n",
        "print(data.head())\n"
      ],
      "metadata": {
        "colab": {
          "base_uri": "https://localhost:8080/"
        },
        "id": "gS6wkDg1uf4s",
        "outputId": "3e5a5150-4420-45e9-bb57-eda8a38a8c82"
      },
      "execution_count": 25,
      "outputs": [
        {
          "output_type": "stream",
          "name": "stdout",
          "text": [
            "\n",
            "Cleaned Dataset - Most Frequent Value in Numerical Columns:\n",
            "                     ds_st      DS_1971      ST_1971  year    crop      area  \\\n",
            "0  24 Parganas_West Bengal  24 Parganas  West Bengal  1956  Barley  0.040486   \n",
            "1  24 Parganas_West Bengal  24 Parganas  West Bengal  1957  Barley  0.040486   \n",
            "2  24 Parganas_West Bengal  24 Parganas  West Bengal  1958  Barley  0.202429   \n",
            "3  24 Parganas_West Bengal  24 Parganas  West Bengal  1959  Barley  0.080972   \n",
            "4  24 Parganas_West Bengal  24 Parganas  West Bengal  1960  Barley  0.040486   \n",
            "\n",
            "   production     yield  \n",
            "0    0.014221  0.351264  \n",
            "1    0.015640  0.386298  \n",
            "2    0.126535  0.625084  \n",
            "3    0.032623  0.402893  \n",
            "4    0.021948  0.542109  \n"
          ]
        }
      ]
    },
    {
      "cell_type": "code",
      "source": [
        "missing_values_per_column = data.isna().sum()\n",
        "print(\"Number of missing values per column:\")\n",
        "print(missing_values_per_column)"
      ],
      "metadata": {
        "colab": {
          "base_uri": "https://localhost:8080/"
        },
        "id": "h45IVpqAutY6",
        "outputId": "71ec6841-2960-414f-c92e-f3964c0e6b03"
      },
      "execution_count": 26,
      "outputs": [
        {
          "output_type": "stream",
          "name": "stdout",
          "text": [
            "Number of missing values per column:\n",
            "ds_st         0\n",
            "DS_1971       0\n",
            "ST_1971       0\n",
            "year          0\n",
            "crop          0\n",
            "area          0\n",
            "production    0\n",
            "yield         0\n",
            "dtype: int64\n"
          ]
        }
      ]
    },
    {
      "cell_type": "markdown",
      "source": [
        "**Linear Interpolation**"
      ],
      "metadata": {
        "id": "qFGAwJZtx-ll"
      }
    },
    {
      "cell_type": "code",
      "source": [
        "data = pd.read_csv('district_apy.csv')\n",
        "\n",
        "missing_values_per_column = data.isna().sum()\n",
        "print(\"Number of missing values per column:\")\n",
        "print(missing_values_per_column)"
      ],
      "metadata": {
        "colab": {
          "base_uri": "https://localhost:8080/"
        },
        "id": "pSWzgrcVwPVs",
        "outputId": "3ee391be-5868-47a9-d12e-8cfb178a9ee1"
      },
      "execution_count": 27,
      "outputs": [
        {
          "output_type": "stream",
          "name": "stdout",
          "text": [
            "Number of missing values per column:\n",
            "ds_st              0\n",
            "DS_1971            0\n",
            "ST_1971            0\n",
            "year               0\n",
            "crop               0\n",
            "area           47194\n",
            "production    112941\n",
            "yield         229177\n",
            "dtype: int64\n"
          ]
        }
      ]
    },
    {
      "cell_type": "code",
      "source": [
        "# List of numerical columns\n",
        "num_columns = ['area', 'production', 'yield']\n",
        "\n",
        "# Interpolate missing values in the DataFrame\n",
        "data[num_columns] = data[num_columns].interpolate()\n",
        "\n",
        "# Display the modified dataset\n",
        "print(\"\\nModified Dataset - Interpolated \")\n",
        "print(data.head())"
      ],
      "metadata": {
        "colab": {
          "base_uri": "https://localhost:8080/"
        },
        "id": "7HqdQhTWwZhn",
        "outputId": "39970b50-1917-4d6f-93f6-882243751569"
      },
      "execution_count": 30,
      "outputs": [
        {
          "output_type": "stream",
          "name": "stdout",
          "text": [
            "\n",
            "Modified Dataset - Interpolated \n",
            "                     ds_st      DS_1971      ST_1971  year    crop      area  \\\n",
            "0  24 Parganas_West Bengal  24 Parganas  West Bengal  1956  Barley  0.040486   \n",
            "1  24 Parganas_West Bengal  24 Parganas  West Bengal  1957  Barley  0.040486   \n",
            "2  24 Parganas_West Bengal  24 Parganas  West Bengal  1958  Barley  0.202429   \n",
            "3  24 Parganas_West Bengal  24 Parganas  West Bengal  1959  Barley  0.080972   \n",
            "4  24 Parganas_West Bengal  24 Parganas  West Bengal  1960  Barley  0.040486   \n",
            "\n",
            "   production     yield  \n",
            "0    0.014221  0.351264  \n",
            "1    0.015640  0.386298  \n",
            "2    0.126535  0.625084  \n",
            "3    0.032623  0.402893  \n",
            "4    0.021948  0.542109  \n"
          ]
        }
      ]
    },
    {
      "cell_type": "code",
      "source": [
        "missing_values_per_column = data.isna().sum()\n",
        "print(\"Number of missing values per column:\")\n",
        "print(missing_values_per_column)"
      ],
      "metadata": {
        "colab": {
          "base_uri": "https://localhost:8080/"
        },
        "id": "-VnD0gDrx1M0",
        "outputId": "adb835c6-f9a8-4403-99cf-b985ef8282fe"
      },
      "execution_count": 31,
      "outputs": [
        {
          "output_type": "stream",
          "name": "stdout",
          "text": [
            "Number of missing values per column:\n",
            "ds_st         0\n",
            "DS_1971       0\n",
            "ST_1971       0\n",
            "year          0\n",
            "crop          0\n",
            "area          0\n",
            "production    0\n",
            "yield         0\n",
            "dtype: int64\n"
          ]
        }
      ]
    },
    {
      "cell_type": "markdown",
      "source": [
        "**Fixed Value**"
      ],
      "metadata": {
        "id": "1q7LsKuhzNDQ"
      }
    },
    {
      "cell_type": "code",
      "source": [
        "data = pd.read_csv('district_apy.csv')\n",
        "\n",
        "missing_values_per_column = data.isna().sum()\n",
        "print(\"Number of missing values per column:\")\n",
        "print(missing_values_per_column)"
      ],
      "metadata": {
        "colab": {
          "base_uri": "https://localhost:8080/"
        },
        "id": "8_o2XlxJyLEV",
        "outputId": "a53d8864-60f5-4322-acd4-3c3dce6900b1"
      },
      "execution_count": 32,
      "outputs": [
        {
          "output_type": "stream",
          "name": "stdout",
          "text": [
            "Number of missing values per column:\n",
            "ds_st              0\n",
            "DS_1971            0\n",
            "ST_1971            0\n",
            "year               0\n",
            "crop               0\n",
            "area           47194\n",
            "production    112941\n",
            "yield         229177\n",
            "dtype: int64\n"
          ]
        }
      ]
    },
    {
      "cell_type": "code",
      "source": [
        "# List of numerical columns\n",
        "num_columns = ['area', 'production', 'yield']\n",
        "\n",
        "# Fill missing values with zeros\n",
        "data[num_columns]= data[num_columns].fillna(0)\n",
        "\n",
        "# Display the cleaned dataset\n",
        "print(\"\\nCleaned Dataset - Fixed Value:\")\n",
        "print(data.head())\n"
      ],
      "metadata": {
        "colab": {
          "base_uri": "https://localhost:8080/"
        },
        "id": "8HkPLG7-yNlx",
        "outputId": "935cc49b-b105-421f-cc7f-5dba68788035"
      },
      "execution_count": 35,
      "outputs": [
        {
          "output_type": "stream",
          "name": "stdout",
          "text": [
            "\n",
            "Cleaned Dataset - Fixed Value:\n",
            "                     ds_st      DS_1971      ST_1971  year    crop      area  \\\n",
            "0  24 Parganas_West Bengal  24 Parganas  West Bengal  1956  Barley  0.040486   \n",
            "1  24 Parganas_West Bengal  24 Parganas  West Bengal  1957  Barley  0.040486   \n",
            "2  24 Parganas_West Bengal  24 Parganas  West Bengal  1958  Barley  0.202429   \n",
            "3  24 Parganas_West Bengal  24 Parganas  West Bengal  1959  Barley  0.080972   \n",
            "4  24 Parganas_West Bengal  24 Parganas  West Bengal  1960  Barley  0.040486   \n",
            "\n",
            "   production     yield  \n",
            "0    0.014221  0.351264  \n",
            "1    0.015640  0.386298  \n",
            "2    0.126535  0.625084  \n",
            "3    0.032623  0.402893  \n",
            "4    0.021948  0.542109  \n"
          ]
        }
      ]
    },
    {
      "cell_type": "code",
      "source": [
        "missing_values_per_column = data.isna().sum()\n",
        "print(\"Number of missing values per column:\")\n",
        "print(missing_values_per_column)"
      ],
      "metadata": {
        "colab": {
          "base_uri": "https://localhost:8080/"
        },
        "id": "65ZH7dSUynC7",
        "outputId": "7614db45-c057-428f-fc50-1a8bfdd57e01"
      },
      "execution_count": 36,
      "outputs": [
        {
          "output_type": "stream",
          "name": "stdout",
          "text": [
            "Number of missing values per column:\n",
            "ds_st         0\n",
            "DS_1971       0\n",
            "ST_1971       0\n",
            "year          0\n",
            "crop          0\n",
            "area          0\n",
            "production    0\n",
            "yield         0\n",
            "dtype: int64\n"
          ]
        }
      ]
    },
    {
      "cell_type": "markdown",
      "source": [
        "**Outliers**"
      ],
      "metadata": {
        "id": "m2xvQ2N_m-ZB"
      }
    },
    {
      "cell_type": "code",
      "source": [
        "# Assuming 'data' is your DataFrame\n",
        "import seaborn as sns\n",
        "import matplotlib.pyplot as plt\n",
        "\n",
        "# List of numerical features\n",
        "num_features = ['year', 'area', 'production', 'yield']\n",
        "\n",
        "plt.figure(figsize=(10, 8))\n",
        "\n",
        "for i, feature in enumerate(num_features):\n",
        "    plt.subplot(len(num_features), 1, i+1)\n",
        "    sns.boxplot(x=data[feature])\n",
        "    plt.title(f'Box plot of {feature}')\n",
        "\n",
        "plt.tight_layout()\n",
        "plt.show()\n"
      ],
      "metadata": {
        "colab": {
          "base_uri": "https://localhost:8080/",
          "height": 807
        },
        "id": "eLIVjKDwcew_",
        "outputId": "440c2708-167a-4393-f93a-c3dcb5741750"
      },
      "execution_count": 38,
      "outputs": [
        {
          "output_type": "display_data",
          "data": {
            "text/plain": [
              "<Figure size 1000x800 with 4 Axes>"
            ],
            "image/png": "[encoded data removed]"
          },
          "metadata": {}
        }
      ]
    },
    {
      "cell_type": "code",
      "source": [
        "import numpy as np\n",
        "\n",
        "# Define function to filter outliers using IQR method\n",
        "def filter_outliers_iqr(data, threshold=1.5):\n",
        "    Q1 = data.quantile(0.25)\n",
        "    Q3 = data.quantile(0.75)\n",
        "    IQR = Q3 - Q1\n",
        "    lower_bound = Q1 - threshold * IQR\n",
        "    upper_bound = Q3 + threshold * IQR\n",
        "    return data[(data >= lower_bound) & (data <= upper_bound)]\n",
        "\n",
        "# Filter outliers for numerical columns in the dataset\n",
        "numerical_cols = data.select_dtypes(include='float64').columns\n",
        "data_filtered = data.copy()\n",
        "data_filtered[numerical_cols] = data_filtered[numerical_cols].apply(filter_outliers_iqr, axis=0)\n",
        "\n",
        "# Display the filtered dataset\n",
        "print(\"\\nFiltered Dataset:\")\n",
        "print(data_filtered.head())\n"
      ],
      "metadata": {
        "colab": {
          "base_uri": "https://localhost:8080/"
        },
        "id": "26os3f7r0VjM",
        "outputId": "6ec4ae09-3b85-4c09-9673-6583a3fc7b81"
      },
      "execution_count": 41,
      "outputs": [
        {
          "output_type": "stream",
          "name": "stdout",
          "text": [
            "\n",
            "Filtered Dataset:\n",
            "                     ds_st      DS_1971      ST_1971  year    crop      area  \\\n",
            "0  24 Parganas_West Bengal  24 Parganas  West Bengal  1956  Barley  0.040486   \n",
            "1  24 Parganas_West Bengal  24 Parganas  West Bengal  1957  Barley  0.040486   \n",
            "2  24 Parganas_West Bengal  24 Parganas  West Bengal  1958  Barley  0.202429   \n",
            "3  24 Parganas_West Bengal  24 Parganas  West Bengal  1959  Barley  0.080972   \n",
            "4  24 Parganas_West Bengal  24 Parganas  West Bengal  1960  Barley  0.040486   \n",
            "\n",
            "   production     yield  \n",
            "0    0.014221  0.351264  \n",
            "1    0.015640  0.386298  \n",
            "2    0.126535  0.625084  \n",
            "3    0.032623  0.402893  \n",
            "4    0.021948  0.542109  \n"
          ]
        }
      ]
    },
    {
      "cell_type": "code",
      "source": [
        "# Filter outliers for numerical columns in the original dataset\n",
        "numerical_cols = data.select_dtypes(include='float64').columns\n",
        "original_outliers = data[~data.index.isin(data_filtered.index)][numerical_cols]\n",
        "\n",
        "# Display the values exceeding outliers\n",
        "print(\"Values exceeding outliers:\")\n",
        "print(original_outliers)\n"
      ],
      "metadata": {
        "colab": {
          "base_uri": "https://localhost:8080/"
        },
        "id": "Z-2OGNCq1eDt",
        "outputId": "b5285f1d-bcd4-49c8-a01c-06c4c610d258"
      },
      "execution_count": 43,
      "outputs": [
        {
          "output_type": "stream",
          "name": "stdout",
          "text": [
            "Values exceeding outliers:\n",
            "Empty DataFrame\n",
            "Columns: [area, production, yield]\n",
            "Index: []\n"
          ]
        }
      ]
    }
  ]
}